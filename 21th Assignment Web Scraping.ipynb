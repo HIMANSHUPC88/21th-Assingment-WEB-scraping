{
 "cells": [
  {
   "cell_type": "code",
   "execution_count": null,
   "id": "8b30fd27-275f-4977-bee2-a634506dff83",
   "metadata": {},
   "outputs": [],
   "source": []
  },
  {
   "cell_type": "code",
   "execution_count": null,
   "id": "5ffcf757-d124-4933-9fe6-139c9945bfc8",
   "metadata": {},
   "outputs": [],
   "source": [
    "Q1. What is Web Scraping? Why is it Used? Give three areas where Web Scraping is used to get data.\n",
    "Answer: Web scraping refers to automatically extracting data from websites. it is used to get the data from any website. web scraping is used in Following ares:\n",
    "1. Email Scraping.\n",
    "2. Market research.\n",
    "3. News Monitoring."
   ]
  },
  {
   "cell_type": "code",
   "execution_count": null,
   "id": "f3528090-f5c1-440c-9ab1-65181d2fc2fa",
   "metadata": {},
   "outputs": [],
   "source": [
    "Q2. What are the different methods used for Web Scraping?\n",
    "Answer: Different methods used for web scraping are:\n",
    "1.HTML parsing\n",
    "2.API based web scraping\n",
    "3.Manual copy-Paste\n",
    "4.Web scraping framework and libraries."
   ]
  },
  {
   "cell_type": "code",
   "execution_count": null,
   "id": "5247f057-607f-4eff-84ea-4f0482f09b74",
   "metadata": {},
   "outputs": [],
   "source": [
    "Q3. What is Beautiful Soup? Why is it used?\n",
    "Answer: Beautiful soup is a python library for pulling data out of HTML and XML files.\n",
    "it is used to convert scraped data into a format."
   ]
  },
  {
   "cell_type": "code",
   "execution_count": null,
   "id": "aca53227-0445-4e27-af01-5ccf0cfce7ff",
   "metadata": {},
   "outputs": [],
   "source": [
    "Q4. Why is flask used in this Web Scraping project?\n",
    "Answer: Flask is a python web framework that is used to create web applications.\n",
    "flask is used in web scraping project for following reasons:\n",
    "1. Web Application Development.\n",
    "2. API Development.\n",
    "3. Integration with Python Code.\n"
   ]
  },
  {
   "cell_type": "code",
   "execution_count": null,
   "id": "38fc193b-3f83-4250-bec1-344a190bb44f",
   "metadata": {},
   "outputs": [],
   "source": [
    "Q5. Write the names of AWS services used in this project. Also, explain the use of each service.\n",
    "Answer: AWS services used in this project are:\n",
    "1. Elastic Beanstalk.\n",
    "2. CodePipeline.\n",
    "\n",
    "1. Elastic Beanstalk is a service that allows you to run applications on AWS.\n",
    "2. CodePipeline is basically used for fatching data form GitHub repository. It is used to connect Github to Beanstalk."
   ]
  }
 ],
 "metadata": {
  "kernelspec": {
   "display_name": "Python 3 (ipykernel)",
   "language": "python",
   "name": "python3"
  },
  "language_info": {
   "codemirror_mode": {
    "name": "ipython",
    "version": 3
   },
   "file_extension": ".py",
   "mimetype": "text/x-python",
   "name": "python",
   "nbconvert_exporter": "python",
   "pygments_lexer": "ipython3",
   "version": "3.10.8"
  }
 },
 "nbformat": 4,
 "nbformat_minor": 5
}
